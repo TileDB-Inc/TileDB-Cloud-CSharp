{
 "cells": [
  {
   "cell_type": "markdown",
   "metadata": {},
   "source": [
    "# Quick start demo\n",
    "## Install packages"
   ]
  },
  {
   "cell_type": "code",
   "execution_count": null,
   "metadata": {
    "dotnet_interactive": {
     "language": "csharp"
    }
   },
   "outputs": [
    {
     "data": {
      "text/html": [
       "<div><div><strong>Restore sources</strong><ul><li><span>C:\\Nuget.Local</span></li></ul></div><div></div><div><strong>Installed Packages</strong><ul><li><span>RestSharp, 105.1.0</span></li><li><span>TileDB.Cloud, 0.1.0</span></li></ul></div></div>"
      ]
     },
     "metadata": {},
     "output_type": "display_data"
    }
   ],
   "source": [
    "\n",
    "#r \"nuget:Newtonsoft.Json,12.03.3\"\n",
    "#r \"JsonSubTypes,1.6.0\"\n",
    "#r \"nuget:RestSharp,105.1.0\"\n",
    "#r \"nuget:Polly,7.2.2\"\n",
    "#r \"nuget:TileDB.CSharp,2.4.7\"\n",
    "#r \"nuget:TileDB.Cloud\""
   ]
  },
  {
   "cell_type": "code",
   "execution_count": null,
   "metadata": {
    "dotnet_interactive": {
     "language": "csharp"
    }
   },
   "outputs": [],
   "source": [
    "TileDB.Cloud.Client.Login()"
   ]
  },
  {
   "cell_type": "code",
   "execution_count": null,
   "metadata": {
    "dotnet_interactive": {
     "language": "csharp"
    }
   },
   "outputs": [
    {
     "name": "stdout",
     "output_type": "stream",
     "text": [
      "{\r\n",
      "  \"id\": \"ca55fd8a-5243-46f9-b7d5-7cd5e3d2b889\",\r\n",
      "  \"username\": \"bin.deng\",\r\n",
      "  \"name\": \"Bin Deng\",\r\n",
      "  \"email\": \"bin.deng@tiledb.com\",\r\n",
      "  \"is_valid_email\": true,\r\n",
      "  \"organizations\": [\r\n",
      "    {\r\n",
      "      \"role\": \"read_only\",\r\n",
      "      \"user_id\": \"ca55fd8a-5243-46f9-b7d5-7cd5e3d2b889\",\r\n",
      "      \"organization_id\": \"bbacb27e-f973-446f-a72a-3b104a9e4932\",\r\n",
      "      \"username\": \"bin.deng\",\r\n",
      "      \"organization_name\": \"TileDB-Inc\"\r\n",
      "    },\r\n",
      "    {\r\n",
      "      \"role\": \"read_only\",\r\n",
      "      \"user_id\": \"ca55fd8a-5243-46f9-b7d5-7cd5e3d2b889\",\r\n",
      "      \"organization_id\": \"df9332da-82f1-49c2-b913-7964d250002f\",\r\n",
      "      \"username\": \"bin.deng\",\r\n",
      "      \"organization_name\": \"public\"\r\n",
      "    }\r\n",
      "  ],\r\n",
      "  \"enabled_features\": [\r\n",
      "    \"notebooks\",\r\n",
      "    \"generic_udfs\",\r\n",
      "    \"notebook_sharing\"\r\n",
      "  ]\r\n",
      "}\r\n"
     ]
    }
   ],
   "source": [
    "var user_details = TileDB.Cloud.RestUtil.GetUser();\n",
    "System.Console.WriteLine(\"{0}\", user_details.ToJson());"
   ]
  }
 ],
 "metadata": {
  "kernelspec": {
   "display_name": ".NET (C#)",
   "language": "C#",
   "name": ".net-csharp"
  },
  "language_info": {
   "name": "C#"
  }
 },
 "nbformat": 4,
 "nbformat_minor": 2
}
