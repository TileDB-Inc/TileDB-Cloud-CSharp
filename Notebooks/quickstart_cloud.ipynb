{
 "cells": [
  {
   "cell_type": "markdown",
   "metadata": {},
   "source": [
    "## Quick start demo"
   ]
  },
  {
   "attachments": {},
   "cell_type": "markdown",
   "metadata": {},
   "source": [
    "### add TileDB.Cloud package, other dependency packages (Newtonsoft.Json, RestSharp, Polly, TileDB.CSharp) will also be added"
   ]
  },
  {
   "cell_type": "code",
   "execution_count": null,
   "metadata": {
    "dotnet_interactive": {
     "language": "csharp"
    },
    "vscode": {
     "languageId": "csharp"
    }
   },
   "outputs": [],
   "source": [
    "#r \"nuget:TileDB.Cloud\""
   ]
  },
  {
   "cell_type": "markdown",
   "metadata": {},
   "source": [
    "### Login"
   ]
  },
  {
   "cell_type": "code",
   "execution_count": null,
   "metadata": {
    "dotnet_interactive": {
     "language": "csharp"
    },
    "vscode": {
     "languageId": "csharp"
    }
   },
   "outputs": [],
   "source": [
    "string host = \"https://api.tiledb.com\"; //default host\n",
    "string api_key = System.Environment.GetEnvironmentVariable(\"REST_TOKEN_KEY\"); //default token\n",
    "TileDB.Cloud.Client.Login(token:api_key,host:host);\n",
    "//TileDB.Cloud.Client.Login(); // use default values"
   ]
  },
  {
   "cell_type": "markdown",
   "metadata": {},
   "source": [
    "### Get User information"
   ]
  },
  {
   "cell_type": "code",
   "execution_count": null,
   "metadata": {
    "dotnet_interactive": {
     "language": "csharp"
    },
    "vscode": {
     "languageId": "csharp"
    }
   },
   "outputs": [],
   "source": [
    "var user_details = TileDB.Cloud.RestUtil.GetUser();\n",
    "System.Console.WriteLine(\"{0}\", user_details.ToJson());"
   ]
  },
  {
   "cell_type": "markdown",
   "metadata": {},
   "source": [
    "### Array uri infos"
   ]
  },
  {
   "cell_type": "code",
   "execution_count": null,
   "metadata": {
    "dotnet_interactive": {
     "language": "csharp"
    },
    "vscode": {
     "languageId": "csharp"
    }
   },
   "outputs": [],
   "source": [
    "string original_file = \"s3://tiledb-inc-demo-data/files/original/VLDB17_TileDB.pdf\";\n",
    "\n",
    "//TileDB File details\n",
    "string tiledb_file_name = \"VLDB17_TileDB_Example\";\n",
    "string tiledb_file_s3_uri = user_details.DefaultS3Path + \"/\" + tiledb_file_name;\n",
    "System.Console.WriteLine(\"tiledb_file_s3_uri:{0}\", tiledb_file_s3_uri);"
   ]
  },
  {
   "cell_type": "markdown",
   "metadata": {},
   "source": [
    "### Delete the file array if exists"
   ]
  },
  {
   "cell_type": "code",
   "execution_count": null,
   "metadata": {
    "dotnet_interactive": {
     "language": "csharp"
    },
    "vscode": {
     "languageId": "csharp"
    }
   },
   "outputs": [],
   "source": [
    "var arrayinfo = TileDB.Cloud.RestUtil.GetArrayInfo(user_details.Username, tiledb_file_s3_uri);\n",
    "if(arrayinfo != null) {\n",
    "    System.Console.WriteLine(\"{0}\", arrayinfo.ToJson());\n",
    "    System.Console.WriteLine(\"Now start to delete {0}\",tiledb_file_s3_uri );\n",
    "    TileDB.Cloud.RestUtil.DeleteArray(user_details.Username, tiledb_file_s3_uri, \"application/json\");\n",
    "}\n",
    "else {\n",
    "    System.Console.WriteLine(\"can not find uri: {0}\", tiledb_file_s3_uri);\n",
    "}\n",
    " "
   ]
  },
  {
   "cell_type": "markdown",
   "metadata": {},
   "source": [
    "### Try to create a file array"
   ]
  },
  {
   "cell_type": "code",
   "execution_count": null,
   "metadata": {
    "dotnet_interactive": {
     "language": "csharp"
    },
    "vscode": {
     "languageId": "csharp"
    }
   },
   "outputs": [],
   "source": [
    "var file_details = TileDB.Cloud.RestUtil.CreateFile(user_details.Username, original_file, tiledb_file_s3_uri, tiledb_file_name);\n",
    "if(file_details == null) \n",
    "{\n",
    "    System.Console.WriteLine(\"failed to create file:{0}\", tiledb_file_s3_uri);\n",
    "} \n",
    "else {\n",
    "    System.Console.WriteLine(\"{0}\", file_details.ToJson());\n",
    "}"
   ]
  },
  {
   "cell_type": "code",
   "execution_count": null,
   "metadata": {
    "dotnet_interactive": {
     "language": "csharp"
    },
    "vscode": {
     "languageId": "csharp"
    }
   },
   "outputs": [],
   "source": [
    "arrayinfo = TileDB.Cloud.RestUtil.GetArrayInfo(user_details.Username,tiledb_file_s3_uri);\n",
    "if(arrayinfo==null)\n",
    "{\n",
    "    System.Console.WriteLine(\"failed to get array info for uri:{0}\",tiledb_file_s3_uri);\n",
    "}\n",
    "else {\n",
    "    System.Console.WriteLine(\"{0}\",arrayinfo.ToJson());\n",
    "}"
   ]
  },
  {
   "cell_type": "markdown",
   "metadata": {},
   "source": [
    "### Add metadata"
   ]
  },
  {
   "cell_type": "code",
   "execution_count": null,
   "metadata": {
    "dotnet_interactive": {
     "language": "csharp"
    },
    "vscode": {
     "languageId": "csharp"
    }
   },
   "outputs": [],
   "source": [
    "using TileDB; //namespace using, need it to use extension methods\n",
    "var ctx = new TileDB.Context();\n",
    "//if you donot use using statement block, please call array_write.close() at the end to materialize it on disk\n",
    "using(var array_write = new TileDB.Array(ctx, tiledb_file_s3_uri, TileDB.QueryType.TILEDB_WRITE))\n",
    "{\n",
    "    // add int metadata\n",
    "    List<int> int_metadata = new List<int>() {1,100};\n",
    "    array_write.AddArrayMetadataByList<int>(\"int_metadata\",int_metadata);\n",
    "    // add double metadata\n",
    "    var double_metadata = new List<double>() {1.0,100.0,1000.0};\n",
    "    array_write.AddArrayMetadataByList<double>(\"double_metadata\", double_metadata);\n",
    "    // add string key value pair \n",
    "    array_write.AddArrayMetadataByStringKeyValue(\"key1\",\"value1\");\n",
    "    // add multiple string key value pairs \n",
    "    var key_value_map = new System.Collections.Generic.Dictionary<string,string>();\n",
    "    key_value_map[\"key2\"] = \"value2\";\n",
    "    key_value_map[\"key3\"] = \"value3\";\n",
    "    array_write.AddArrayMetadataByStringMap(key_value_map);    \n",
    "\n",
    "}\n"
   ]
  },
  {
   "cell_type": "markdown",
   "metadata": {},
   "source": [
    "### Get metadata"
   ]
  },
  {
   "cell_type": "markdown",
   "metadata": {},
   "source": [
    "#### open the array to read"
   ]
  },
  {
   "cell_type": "code",
   "execution_count": null,
   "metadata": {
    "dotnet_interactive": {
     "language": "csharp"
    },
    "vscode": {
     "languageId": "csharp"
    }
   },
   "outputs": [],
   "source": [
    "var array_read = new TileDB.Array(ctx,tiledb_file_s3_uri, TileDB.QueryType.TILEDB_READ);"
   ]
  },
  {
   "cell_type": "markdown",
   "metadata": {},
   "source": [
    "#### get metadata from index"
   ]
  },
  {
   "cell_type": "code",
   "execution_count": null,
   "metadata": {
    "dotnet_interactive": {
     "language": "csharp"
    },
    "vscode": {
     "languageId": "csharp"
    }
   },
   "outputs": [],
   "source": [
    "var metadata_json = array_read.GetArrayMetadataJsonFromIndex(0);\n",
    "System.Console.WriteLine(\"{0}\", metadata_json.ToString());"
   ]
  },
  {
   "cell_type": "markdown",
   "metadata": {},
   "source": [
    "#### get metadata from key"
   ]
  },
  {
   "cell_type": "code",
   "execution_count": null,
   "metadata": {
    "dotnet_interactive": {
     "language": "csharp"
    },
    "vscode": {
     "languageId": "csharp"
    }
   },
   "outputs": [],
   "source": [
    "var double_metadata_json = array_read.GetArrayMetadataJsonForKey(\"double_metadata\");\n",
    "System.Console.WriteLine(\"{0}\", double_metadata_json.ToString());\n",
    "var double_list = Newtonsoft.Json.JsonConvert.DeserializeObject<List<double>>(double_metadata_json[\"value\"].ToString());\n",
    "System.Console.WriteLine(\"type of double_list:{0}, value of double_list:{1}\",double_list.GetType(),string.Join(\",\",double_list));"
   ]
  },
  {
   "cell_type": "code",
   "execution_count": null,
   "metadata": {
    "dotnet_interactive": {
     "language": "csharp"
    },
    "vscode": {
     "languageId": "csharp"
    }
   },
   "outputs": [],
   "source": [
    "// get string metadata\n",
    "var string_metadata_json = array_read.GetArrayMetadataJsonForKey(\"key2\");\n",
    "System.Console.WriteLine(\"{0}\", string_metadata_json.ToString());\n",
    "// access key and value\n",
    "System.Console.WriteLine(\"{0}:{1}\",string_metadata_json[\"key\"],string_metadata_json[\"value\"]);"
   ]
  },
  {
   "cell_type": "markdown",
   "metadata": {},
   "source": [
    "#### get all metadata"
   ]
  },
  {
   "cell_type": "code",
   "execution_count": null,
   "metadata": {
    "dotnet_interactive": {
     "language": "csharp"
    },
    "vscode": {
     "languageId": "csharp"
    }
   },
   "outputs": [],
   "source": [
    "\n",
    "var all_metadata_json = array_read.GetArrayMetadataJson();\n",
    "System.Console.WriteLine(\"{0}\", all_metadata_json.ToString());"
   ]
  },
  {
   "cell_type": "markdown",
   "metadata": {},
   "source": [
    "### Catalog searching\n",
    "        // Parameters:\n",
    "        //   username: string\n",
    "        //     namespace (optional)\n",
    "        //\n",
    "        //   permissions: string\n",
    "        //     permissions valid values include read, read_write, write, admin (optional)\n",
    "        //\n",
    "        //   tags: List<string>\n",
    "        //     tag to search for, more than one can be included (optional)\n",
    "        //\n",
    "        //   exclude_tags: List<string>\n",
    "        //     tags to exclude matching array in results, more than one can be included (optional)\n",
    "        //\n",
    "        //   search: string\n",
    "        //     search string that will look at name, namespace or description fields (optional)\n",
    "        //\n",
    "        //   file_types: List<string>\n",
    "        //     file_type to search for, more than one can be included (optional)\n",
    "        //\n",
    "        //   exclude_file_types: List<string>\n",
    "        //     file_type to exclude matching array in results, more than one can be included\n",
    "        //     (optional)\n",
    "        //\n",
    "        //   page: int\n",
    "        //     pagination offset (optional)\n",
    "        //\n",
    "        //   perPage: int\n",
    "        //     pagination limit (optional)\n",
    "        //\n",
    "        // Returns:\n",
    "        //     ArrayBrowserData"
   ]
  },
  {
   "cell_type": "code",
   "execution_count": null,
   "metadata": {
    "dotnet_interactive": {
     "language": "csharp"
    },
    "vscode": {
     "languageId": "csharp"
    }
   },
   "outputs": [],
   "source": [
    "\n",
    "List<string> file_types = new List<string>();\n",
    "file_types.Add(TileDB.Cloud.Rest.Model.FileType.File.ToString());\n",
    "\n",
    "//List owned arrays\n",
    "var arrayList = TileDB.Cloud.RestUtil.ListArrays(username:user_details.Username,file_types:file_types);\n",
    "Console.WriteLine(\"{0}\", arrayList.ToJson());\n",
    "\n",
    "//List public arrays\n",
    "var listPublicArrays = TileDB.Cloud.RestUtil.ListPublicArrays(username:user_details.Username,file_types:file_types);\n",
    "Console.WriteLine(\"{0}\", listPublicArrays.ToJson());\n",
    "\n",
    "//List shared arrays\n",
    "var listSharedArrays = TileDB.Cloud.RestUtil.ListSharedArrays(username:user_details.Username, file_types:file_types);\n",
    "Console.WriteLine(\"{0}\", listSharedArrays.ToJson());"
   ]
  },
  {
   "cell_type": "markdown",
   "metadata": {},
   "source": [
    "### Export from tiledb to s3"
   ]
  },
  {
   "cell_type": "code",
   "execution_count": null,
   "metadata": {
    "dotnet_interactive": {
     "language": "csharp"
    },
    "vscode": {
     "languageId": "csharp"
    }
   },
   "outputs": [],
   "source": [
    "string export_s3_uri = user_details.DefaultS3Path + \"/\" + \"exported.pdf\";\n",
    "\n",
    "var file_exported = TileDB.Cloud.RestUtil.ExportFile(user_details.Username, tiledb_file_s3_uri, export_s3_uri);\n",
    "if (file_exported == null)\n",
    "{\n",
    "    System.Console.WriteLine(\"failed export from {0} to {1}\", tiledb_file_s3_uri, export_s3_uri);\n",
    "}\n",
    "else\n",
    "{\n",
    "    System.Console.WriteLine(\"{0}\", file_exported.ToJson());\n",
    "}\n"
   ]
  },
  {
   "cell_type": "markdown",
   "metadata": {},
   "source": [
    "### Export between local file and cloud array"
   ]
  },
  {
   "cell_type": "code",
   "execution_count": null,
   "metadata": {
    "dotnet_interactive": {
     "language": "csharp"
    },
    "vscode": {
     "languageId": "csharp"
    }
   },
   "outputs": [],
   "source": [
    "//default vfs.s3.region is us-east-1\n",
    "//This is an example for using custom config\n",
    "TileDB.Config cfg = new TileDB.Config();\n",
    "cfg.set(\"vfs.s3.region\", \"us-east-2\");\n",
    "TileDB.Context ctx2 = new TileDB.Context(cfg);\n",
    "\n",
    "//export file array to local file, The function in RestUtil will be deprecated\n",
    "//TileDB.Cloud.RestUtil.ExportFileArrayToLocalFile(ctx2, \"s3://stefan-region-test/image_tdb\", \"image_exported.tiff\");\n",
    "TileDB.CoreUtil.ExportArrayToFile(ctx2, \"s3://stefan-region-test/image_tdb\", \"image_exported.tiff\" );\n",
    "\n",
    "//export local file image_exported.tiff\n",
    "//TileDB.Cloud.RestUtil.SaveLocalFileToFileArray(ctx2, \"s3://tiledb-bin/image_tdb\", \"image_exported.tiff\",\"\",\"\");\n",
    "TileDB.CoreUtil.SaveFileToArray(ctx2,\"s3://tiledb-bin/image_tdb\", \"image_exported.tiff\",\"\",\"\");"
   ]
  }
 ],
 "metadata": {
  "kernelspec": {
   "display_name": ".NET (C#)",
   "language": "C#",
   "name": ".net-csharp"
  },
  "language_info": {
   "name": "C#"
  }
 },
 "nbformat": 4,
 "nbformat_minor": 2
}
