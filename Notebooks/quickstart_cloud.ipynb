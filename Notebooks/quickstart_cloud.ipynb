{
 "cells": [
  {
   "cell_type": "markdown",
   "metadata": {},
   "source": [
    "## Quick start demo"
   ]
  },
  {
   "cell_type": "markdown",
   "metadata": {},
   "source": [
    "### add TileDB.Cloud package, other dependency packages(Newtonsoft.Json, JsonSubtypes, RestSharp, Polly, TileDB.CSharp) will also be added"
   ]
  },
  {
   "cell_type": "code",
   "execution_count": null,
   "metadata": {
    "dotnet_interactive": {
     "language": "csharp"
    }
   },
   "outputs": [],
   "source": [
    "#r \"nuget:TileDB.Cloud\""
   ]
  },
  {
   "cell_type": "markdown",
   "metadata": {},
   "source": [
    "### Login"
   ]
  },
  {
   "cell_type": "code",
   "execution_count": null,
   "metadata": {
    "dotnet_interactive": {
     "language": "csharp"
    }
   },
   "outputs": [],
   "source": [
    "//string host = \"https://api.tiledb.com/v1\";\n",
    "//string api_key = System.Environment.GetEnvironmentVariable(\"REST_TOKEN_KEY\");\n",
    "//TileDB.Cloud.Client.Login(token:api_key,host:host);\n",
    "TileDB.Cloud.Client.Login();"
   ]
  },
  {
   "cell_type": "markdown",
   "metadata": {},
   "source": [
    "### Get User information"
   ]
  },
  {
   "cell_type": "code",
   "execution_count": null,
   "metadata": {
    "dotnet_interactive": {
     "language": "csharp"
    }
   },
   "outputs": [],
   "source": [
    "var user_details = TileDB.Cloud.RestUtil.GetUser();\n",
    "System.Console.WriteLine(\"{0}\", user_details.ToJson());"
   ]
  },
  {
   "cell_type": "markdown",
   "metadata": {},
   "source": [
    "### Array uri infos"
   ]
  },
  {
   "cell_type": "code",
   "execution_count": null,
   "metadata": {
    "dotnet_interactive": {
     "language": "csharp"
    }
   },
   "outputs": [],
   "source": [
    "string original_file = \"s3://tiledb-inc-demo-data/files/original/VLDB17_TileDB.pdf\";\n",
    "\n",
    "//TileDB File details\n",
    "string tiledb_file_name = \"VLDB17_TileDB_Example\";\n",
    "string tiledb_file_s3_uri = user_details.DefaultS3Path + \"/\" + tiledb_file_name;\n",
    "string uri = \"tiledb://\" + user_details.Username + \"/\" + tiledb_file_s3_uri;\n",
    "System.Console.WriteLine(\"uri:{0}\", uri);"
   ]
  },
  {
   "cell_type": "code",
   "execution_count": null,
   "metadata": {
    "dotnet_interactive": {
     "language": "csharp"
    }
   },
   "outputs": [],
   "source": [
    "// Export details\n",
    "string export_local_path = \"exported.pdf\";\n",
    "string export_s3_uri = user_details.DefaultS3Path + \"/\" + \"exported.pdf\";\n",
    "System.Console.WriteLine(\"export_s3_uri:{0}\", export_s3_uri);"
   ]
  },
  {
   "cell_type": "markdown",
   "metadata": {},
   "source": [
    "### Delete the file array if exists"
   ]
  },
  {
   "cell_type": "code",
   "execution_count": null,
   "metadata": {
    "dotnet_interactive": {
     "language": "csharp"
    }
   },
   "outputs": [],
   "source": [
    "var arrayinfo = TileDB.Cloud.RestUtil.GetArrayInfo(uri);\n",
    "if(arrayinfo != null) {\n",
    "    TileDB.Cloud.RestUtil.DeleteArray(uri, \"application/json\");\n",
    "}\n",
    " "
   ]
  },
  {
   "cell_type": "markdown",
   "metadata": {},
   "source": [
    "### Try to create a file array"
   ]
  },
  {
   "cell_type": "code",
   "execution_count": null,
   "metadata": {
    "dotnet_interactive": {
     "language": "csharp"
    }
   },
   "outputs": [],
   "source": [
    "var file_details = TileDB.Cloud.RestUtil.CreateFile(user_details.Username, original_file, tiledb_file_s3_uri, tiledb_file_name);\n",
    "if(file_details == null) \n",
    "{\n",
    "    System.Console.WriteLine(\"failed to create file:{0}\", tiledb_file_s3_uri);\n",
    "} "
   ]
  },
  {
   "cell_type": "code",
   "execution_count": null,
   "metadata": {
    "dotnet_interactive": {
     "language": "csharp"
    }
   },
   "outputs": [],
   "source": [
    "arrayinfo = TileDB.Cloud.RestUtil.GetArrayInfo(uri);\n",
    "if(arrayinfo==null)\n",
    "{\n",
    "    System.Console.WriteLine(\"failed to get array info for uri:{0}\", uri);\n",
    "}\n",
    "else {\n",
    "    System.Console.WriteLine(\"{0}\",arrayinfo.ToJson());\n",
    "}"
   ]
  },
  {
   "cell_type": "markdown",
   "metadata": {},
   "source": [
    "### Catlog searching"
   ]
  },
  {
   "cell_type": "code",
   "execution_count": null,
   "metadata": {
    "dotnet_interactive": {
     "language": "csharp"
    }
   },
   "outputs": [],
   "source": [
    "var arrayList = TileDB.Cloud.RestUtil.ListArrays(user_details.Username);\n",
    "Console.WriteLine(\"{0}\", arrayList.ToJson());\n",
    "\n",
    "var listPublicArrays = TileDB.Cloud.RestUtil.ListPublicArrays(user_details.Username);\n",
    "Console.WriteLine(\"{0}\", listPublicArrays.ToJson());\n",
    "\n",
    "var listSharedArrays = TileDB.Cloud.RestUtil.ListSharedArrays(user_details.Username);\n",
    "Console.WriteLine(\"{0}\", listSharedArrays.ToJson());"
   ]
  },
  {
   "cell_type": "markdown",
   "metadata": {},
   "source": [
    "### Export from tiledb to s3"
   ]
  },
  {
   "cell_type": "code",
   "execution_count": null,
   "metadata": {
    "dotnet_interactive": {
     "language": "csharp"
    }
   },
   "outputs": [],
   "source": [
    "var file_exported = TileDB.Cloud.RestUtil.ExportFile(uri, export_s3_uri);\n",
    "if(file_exported == null) \n",
    "{\n",
    "    System.Console.WriteLine(\"failed export from {0} to {1}\", uri, export_s3_uri );\n",
    "}\n"
   ]
  },
  {
   "cell_type": "markdown",
   "metadata": {},
   "source": [
    "### Export between local file and cloud array"
   ]
  },
  {
   "cell_type": "code",
   "execution_count": null,
   "metadata": {
    "dotnet_interactive": {
     "language": "csharp"
    }
   },
   "outputs": [],
   "source": [
    "//default vfs.s3.region is us-east-2\n",
    "TileDB.Config cfg = new TileDB.Config();\n",
    "cfg.set(\"vfs.s3.region\", \"us-east-2\");\n",
    "TileDB.Context ctx = new TileDB.Context(cfg);\n",
    "\n",
    "//export file array to local file\n",
    "TileDB.Cloud.RestUtil.ExportFileArrayToLocalFile(\"s3://stefan-region-test/image_tdb\", \"image_exported.tiff\", ctx);\n",
    "\n",
    "//export local file image_exported.tiff\n",
    "TileDB.Cloud.RestUtil.SaveLocalFileToFileArray(\"s3://tiledb-bin/image_tdb\", \"image_exported.tiff\",\"\",\"\",ctx);"
   ]
  }
 ],
 "metadata": {
  "kernelspec": {
   "display_name": ".NET (C#)",
   "language": "C#",
   "name": ".net-csharp"
  },
  "language_info": {
   "name": "C#"
  }
 },
 "nbformat": 4,
 "nbformat_minor": 2
}
