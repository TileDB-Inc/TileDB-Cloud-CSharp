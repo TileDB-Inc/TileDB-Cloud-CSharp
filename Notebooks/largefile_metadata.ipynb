{
 "cells": [
  {
   "cell_type": "code",
   "execution_count": null,
   "metadata": {
    "dotnet_interactive": {
     "language": "csharp"
    }
   },
   "outputs": [],
   "source": [
    "# Add Metadata to a large file"
   ]
  },
  {
   "cell_type": "markdown",
   "metadata": {},
   "source": [
    "## Add TileDB.Cloud package"
   ]
  },
  {
   "cell_type": "code",
   "execution_count": null,
   "metadata": {
    "dotnet_interactive": {
     "language": "csharp"
    }
   },
   "outputs": [],
   "source": [
    "#r \"nuget:TileDB.Cloud\""
   ]
  },
  {
   "cell_type": "markdown",
   "metadata": {},
   "source": [
    "## Login"
   ]
  },
  {
   "cell_type": "code",
   "execution_count": null,
   "metadata": {
    "dotnet_interactive": {
     "language": "csharp"
    }
   },
   "outputs": [],
   "source": [
    "string host = \"https://api.tiledb.com\"; //default host\n",
    "string api_key = System.Environment.GetEnvironmentVariable(\"REST_TOKEN_KEY\"); //default token\n",
    "TileDB.Cloud.Client.Login(token:api_key,host:host);\n",
    "//TileDB.Cloud.Client.Login(); // use default values"
   ]
  },
  {
   "cell_type": "code",
   "execution_count": null,
   "metadata": {
    "dotnet_interactive": {
     "language": "csharp"
    }
   },
   "outputs": [],
   "source": [
    "TileDB.Cloud.Rest.Model.User user_details = TileDB.Cloud.RestUtil.GetUser();\n",
    "Console.WriteLine(\"{0}\", user_details.ToJson());"
   ]
  },
  {
   "cell_type": "code",
   "execution_count": null,
   "metadata": {
    "dotnet_interactive": {
     "language": "csharp"
    }
   },
   "outputs": [],
   "source": [
    "var ctx = TileDB.Cloud.Client.GetContext();"
   ]
  },
  {
   "cell_type": "markdown",
   "metadata": {},
   "source": [
    "## Create a file\n",
    "### under windows, \n",
    "fsutil file createnew tempTestFile_4g.txt 4500000000\n",
    "fsutil file createnew tempTestFile_300m.txt 300000000"
   ]
  },
  {
   "cell_type": "code",
   "execution_count": null,
   "metadata": {
    "dotnet_interactive": {
     "language": "csharp"
    }
   },
   "outputs": [],
   "source": [
    "string original_file = user_details.DefaultS3Path + \"tempTestFile_300m.txt\";\n",
    "string tiledb_file_name = \"TestFile_300m_8\";\n",
    "string tiledb_file_uri = user_details.DefaultS3Path + tiledb_file_name;\n",
    "var file_details = TileDB.Cloud.RestUtil.CreateFile(user_details.Username, original_file, tiledb_file_uri, tiledb_file_name);\n",
    "if (file_details == null)\n",
    "{\n",
    "    System.Console.WriteLine(\"failed to create file:{0}\", tiledb_file_uri);\n",
    "}\n",
    "else\n",
    "{\n",
    "    System.Console.WriteLine(\"{0}\", file_details.ToJson());\n",
    "}"
   ]
  },
  {
   "cell_type": "markdown",
   "metadata": {},
   "source": [
    "## Add Metadata"
   ]
  },
  {
   "cell_type": "code",
   "execution_count": null,
   "metadata": {
    "dotnet_interactive": {
     "language": "csharp"
    }
   },
   "outputs": [],
   "source": [
    "using TileDB.CSharp; //need it to use extension methods\n",
    " \n",
    "using(var array_write = new TileDB.CSharp.Array(ctx, tiledb_file_uri)) \n",
    "{\n",
    "    array_write.Open(QueryType.TILEDB_WRITE);\n",
    "    array_write.PutMetadata(\"key1\",\"value1\");\n",
    "    array_write.PutMetadata(\"key2\",\"value2\");\n",
    "    array_write.PutMetadata(\"key3\",\"value3\");\n",
    " \n",
    "\n",
    "}"
   ]
  },
  {
   "cell_type": "markdown",
   "metadata": {},
   "source": [
    "## Read Metadata"
   ]
  },
  {
   "cell_type": "code",
   "execution_count": null,
   "metadata": {
    "dotnet_interactive": {
     "language": "csharp"
    }
   },
   "outputs": [],
   "source": [
    "using(var array_read = new TileDB.Array(ctx,tiledb_file_uri))\n",
    "{\n",
    "    array_read.Open(QueryType.TILEDB_READ);\n",
    "    // get string metadata\n",
    "    var string_metadata = array_read.GetMetadata(\"key2\");\n",
    "    System.Console.WriteLine(\"{0}\", string_metadata.ToString());\n",
    "    // access key and value\n",
    "    System.Console.WriteLine(\"{0}:{1}\",\"key2\",string_metadata);\n",
    "\n",
    "}\n"
   ]
  }
 ],
 "metadata": {
  "kernelspec": {
   "display_name": ".NET (C#)",
   "language": "C#",
   "name": ".net-csharp"
  },
  "language_info": {
   "name": "C#"
  }
 },
 "nbformat": 4,
 "nbformat_minor": 2
}
