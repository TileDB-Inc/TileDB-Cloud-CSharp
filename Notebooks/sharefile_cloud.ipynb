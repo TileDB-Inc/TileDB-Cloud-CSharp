{
 "cells": [
  {
   "cell_type": "markdown",
   "metadata": {},
   "source": [
    "# Share file demo"
   ]
  },
  {
   "cell_type": "markdown",
   "metadata": {},
   "source": [
    "## Add TileDB.Cloud package"
   ]
  },
  {
   "cell_type": "code",
   "execution_count": null,
   "metadata": {
    "dotnet_interactive": {
     "language": "csharp"
    }
   },
   "outputs": [],
   "source": [
    "#r \"nuget:TileDB.Cloud\""
   ]
  },
  {
   "cell_type": "markdown",
   "metadata": {},
   "source": [
    "## Login"
   ]
  },
  {
   "cell_type": "code",
   "execution_count": null,
   "metadata": {
    "dotnet_interactive": {
     "language": "csharp"
    }
   },
   "outputs": [],
   "source": [
    "string host = \"https://api.tiledb.com\"; //default host\n",
    "string api_key = System.Environment.GetEnvironmentVariable(\"REST_TOKEN_KEY\"); //default token\n",
    "TileDB.Cloud.Client.Login(token:api_key,host:host);\n",
    "//TileDB.Cloud.Client.Login(); // use default values"
   ]
  },
  {
   "cell_type": "markdown",
   "metadata": {},
   "source": [
    "## Create user\n",
    "* <param name=\"id\">unique id of user.</param>\n",
    "* <param name=\"username\">username must be unique (required).</param>\n",
    "* <param name=\"password\">password.</param>\n",
    "* <param name=\"name\">the user&#39;s full, real name.</param>\n",
    "* <param name=\"email\">the user&#39;s email.</param>\n",
    "* <param name=\"company\">the user&#39;s company.</param>\n",
    "* <param name=\"logo\">the user&#39;s logo.</param>\n",
    "* <param name=\"timezone\">timezone.</param>\n",
    "* <param name=\"allowedActions\">list of actions user is allowed to do on this organization.</param>\n",
    "* <param name=\"defaultS3Path\">default s3 path to store newly created notebooks.</param>\n",
    "* <param name=\"defaultS3PathCredentialsName\">Default s3 path credentials name is the credentials name to use along with default_s3_path.</param>\n",
    "* <param name=\"defaultNamespaceCharged\">Override the default namespace charged for actions when no namespace is specified.</param>"
   ]
  },
  {
   "cell_type": "code",
   "execution_count": null,
   "metadata": {
    "dotnet_interactive": {
     "language": "csharp"
    }
   },
   "outputs": [],
   "source": [
    "var user = new TileDB.Cloud.Rest.Model.User(id:\"userid\", username:\"username\",password:\"password\");\n",
    "var user_api = TileDB.Cloud.Client.GetInstance().GetUserApi();\n",
    "user_api.CreateUser(user);"
   ]
  },
  {
   "cell_type": "markdown",
   "metadata": {},
   "source": [
    "## Create Api token \n",
    "* <param name=\"token\">A api token.</param>\n",
    "* <param name=\"name\">Name of token to revoke.</param>\n",
    "* <param name=\"issuedAt\">datetime the token was created at.</param>\n",
    "* <param name=\"expiresAt\">datetime the token when token will expire.</param>\n",
    "* <param name=\"scope\">Optional scope to limit token, defaults to all permissions, current supported values are password_reset or * (default to &quot;*&quot;)."
   ]
  },
  {
   "cell_type": "code",
   "execution_count": null,
   "metadata": {
    "dotnet_interactive": {
     "language": "csharp"
    }
   },
   "outputs": [],
   "source": [
    "var token = new TileDB.Cloud.Rest.Model.Token(token:\"sometoken\",name:\"tokenname\",issuedAt:System.DateTime.Now, expiresAt:new System.DateTime(2022,4,1,0,0,0));"
   ]
  },
  {
   "cell_type": "markdown",
   "metadata": {},
   "source": [
    "## Share array"
   ]
  },
  {
   "cell_type": "code",
   "execution_count": null,
   "metadata": {
    "dotnet_interactive": {
     "language": "csharp"
    }
   },
   "outputs": [],
   "source": [
    "var array_actions = new List<TileDB.Cloud.Rest.Model.ArrayActions>();\n",
    "array_actions.Add(TileDB.Cloud.Rest.Model.ArrayActions.Read);\n",
    "array_actions.Add(TileDB.Cloud.Rest.Model.ArrayActions.Write);\n",
    "var array_sharing = new TileDB.Cloud.Rest.Model.ArraySharing(actions:array_actions,_namespace:\"namespace\");\n",
    "var array_api = TileDB.Cloud.Client.GetInstance().GetArrayApi();\n",
    "array_api.ShareArray(\"organization_name\",\"array_name\",array_sharing);"
   ]
  }
 ],
 "metadata": {
  "kernelspec": {
   "display_name": ".NET (C#)",
   "language": "C#",
   "name": ".net-csharp"
  },
  "language_info": {
   "name": "C#"
  }
 },
 "nbformat": 4,
 "nbformat_minor": 2
}
